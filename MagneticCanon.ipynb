{
 "metadata": {
  "name": "",
  "signature": "sha256:1e6852cec2da88c411452c677754036486c4b45833753f241db4fb35bb577b1d"
 },
 "nbformat": 3,
 "nbformat_minor": 0,
 "worksheets": [
  {
   "cells": [
    {
     "cell_type": "code",
     "collapsed": false,
     "input": [
      "%pylab inline"
     ],
     "language": "python",
     "metadata": {},
     "outputs": [
      {
       "output_type": "stream",
       "stream": "stdout",
       "text": [
        "Populating the interactive namespace from numpy and matplotlib\n"
       ]
      }
     ],
     "prompt_number": 1
    },
    {
     "cell_type": "markdown",
     "metadata": {},
     "source": [
      "##Magnetic Canon\n",
      "We intend to solve the linear system\n",
      "\n",
      "$$\n",
      "    p_i-\\sum_{\\substack{j=0 \\\\ j\\neq i}}^n 2p_j\\left(\\frac{a}{r_{ij}}\\right)^3-\\sum_{\\substack{j=1'\\\\j\\neq i}}^{l'}2p_j\\left(\\frac{a}{r_{ij}}\\right)^3=2p\\left(\\frac{a}{r_{iM}}\\right)^3\n",
      "$$\n",
      "\n",
      "Where $r_{ij}=2a|i-j|$ for $i,j \\neq 0$ and both with a $'$ or both not, $r_{iM}=b+(2i-1)a$ for $i\\neq 0$, $r_{i0}=d+2b+(2i-1)a$ for $i\\in {1,..,n}$, $r_{i0}=d-(2i-1)a$ for $i\\in {1',..,l'}$, and $r_{0M}=b+d$, and $r_{ij}=2b+(2i-1)a+(2j-1)a$ for one with a prime and the other without a prime.\n",
      "\n",
      "Fist of all we define the relevant variables of the system, all are in gaussian units."
     ]
    },
    {
     "cell_type": "code",
     "collapsed": false,
     "input": [
      "p=444989.0\n",
      "n=6\n",
      "l=1\n",
      "d=4.35\n",
      "a=1.23\n",
      "b=1.0\n",
      "m=n+l+1\n",
      "mass=9"
     ],
     "language": "python",
     "metadata": {},
     "outputs": [],
     "prompt_number": 2
    },
    {
     "cell_type": "markdown",
     "metadata": {},
     "source": [
      "We define a function that returns the distance between each of the components of the system.\n",
      "The matrix r wich is returned have in it's $i,j$ position the quantity $a/r_{ij}$. Where if k' was one of the prime positions has been identify with position n+k, and the magnet has been identify with position n+l+1. Over the diagonal we have not put $a/r_{ii}$ as clearly $r_{ii}=0$ but rather we have pick a number in order for the matrix $A$ that will be defined shortly will be one over the diagonal."
     ]
    },
    {
     "cell_type": "code",
     "collapsed": false,
     "input": [
      "def give_a_over_r(a,b,d):\n",
      "    r=-(0.5)**(1.0/3.0)*ones((m+1,m+1))\n",
      "    for i in range(1,n+1):\n",
      "        for j in range(i+1,n+1):\n",
      "            r[i,j]=1.0/(2.0*abs(i-j))\n",
      "            r[j,i]=r[i,j]\n",
      "        for j in range(n+1,m):\n",
      "            r[i,j]=a/(2.0*b+(2.0*i-1.0)*a+(2.0*j-1.0)*a)\n",
      "            r[j,i]=r[i,j]\n",
      "        r[0,i]=a/(d+2.0*b+(2.0*i-1.0)*a)\n",
      "        r[i,0]=r[0,i]\n",
      "        r[i,m]=a/(b+(2*i-1)*a)\n",
      "        r[m,i]=r[i,m]\n",
      "       \n",
      "    for i in range(n+1,m):\n",
      "        for j in range(i+1,m):\n",
      "            r[i,j]=1.0/(2.0*abs(i-j))\n",
      "            r[j,i]=r[i,j]\n",
      "        r[0,i]=a/(d-(2*i-1)*a)\n",
      "        r[i,0]=r[0,i]\n",
      "        r[i,m]=a/(b+(2*i-1)*a)\n",
      "        r[m,i]=r[i,m]\n",
      "    \n",
      "    r[0,m]=a/(b+d)\n",
      "    r[m,0]=r[0,m]\n",
      "    \n",
      "    return r"
     ],
     "language": "python",
     "metadata": {},
     "outputs": [],
     "prompt_number": 3
    },
    {
     "cell_type": "markdown",
     "metadata": {},
     "source": [
      "We then compute the matrix $A$ that represents the linear system we want to solve and the vector that gives the inhomogenus part of the system and compute all magnetic dipole moments."
     ]
    },
    {
     "cell_type": "code",
     "collapsed": false,
     "input": [
      "r=give_a_over_r(a,b,d)\n",
      "A=-2.0*(r[:-1,:-1])**3\n",
      "t=zeros(m)\n",
      "t=2.0*p*(r[:-1,m])**3"
     ],
     "language": "python",
     "metadata": {},
     "outputs": [],
     "prompt_number": 4
    },
    {
     "cell_type": "code",
     "collapsed": false,
     "input": [
      "x=numpy.linalg.solve(A,t)"
     ],
     "language": "python",
     "metadata": {},
     "outputs": [],
     "prompt_number": 5
    },
    {
     "cell_type": "markdown",
     "metadata": {},
     "source": [
      "Having obtained all magnetic moments the enrgy can be computed by means of the following equation:\n",
      "    $$\n",
      "    U=-2p^2\\left(\\frac{a}{r}\\right)^3\n",
      "    $$\n",
      "    "
     ]
    },
    {
     "cell_type": "code",
     "collapsed": false,
     "input": [
      "Ui=0.0\n",
      "for i in range (m):\n",
      "    for j in range (i+1,m):\n",
      "        Ui+=-2.0*x[i]*x[j]*(r[i,j]/a)**3\n",
      "    Ui+=-2.0*p*x[i]*(r[i,m]/a)**3\n",
      "print Ui"
     ],
     "language": "python",
     "metadata": {},
     "outputs": [
      {
       "output_type": "stream",
       "stream": "stdout",
       "text": [
        "-16118380253.3\n"
       ]
      }
     ],
     "prompt_number": 6
    },
    {
     "cell_type": "markdown",
     "metadata": {},
     "source": [
      "We follow the same procedure for the final configuration (note that the only modification is that the d has been change by an a)"
     ]
    },
    {
     "cell_type": "code",
     "collapsed": false,
     "input": [
      "r=give_a_over_r(a,b,a)\n",
      "A=-2.0*(r[:-1,:-1])**3\n",
      "t=zeros(m)\n",
      "t=2.0*p*(r[:-1,m])**3"
     ],
     "language": "python",
     "metadata": {},
     "outputs": [],
     "prompt_number": 7
    },
    {
     "cell_type": "code",
     "collapsed": false,
     "input": [
      "x=numpy.linalg.solve(A,t)"
     ],
     "language": "python",
     "metadata": {},
     "outputs": [],
     "prompt_number": 8
    },
    {
     "cell_type": "code",
     "collapsed": false,
     "input": [
      "Uf=0.0\n",
      "for i in range (m):\n",
      "    for j in range (i+1,m):\n",
      "        Uf+=-2.0*x[i]*x[j]*(r[i,j]/a)**3\n",
      "    Uf+=-2.0*p*x[i]*(r[i,m]/a)**3\n",
      "print Uf"
     ],
     "language": "python",
     "metadata": {},
     "outputs": [
      {
       "output_type": "stream",
       "stream": "stdout",
       "text": [
        "-30291367662.5\n"
       ]
      }
     ],
     "prompt_number": 9
    },
    {
     "cell_type": "markdown",
     "metadata": {},
     "source": [
      "At last we can compute the velocity by means of the following equation\n",
      "$$\n",
      "v=\\sqrt{\\frac{2\\Delta U}{m}}\n",
      "$$\n",
      "the extra factor of $1.3\\times 10^{-5}$ is needed to take care of the units (remember we are using gaussian units)"
     ]
    },
    {
     "cell_type": "code",
     "collapsed": false,
     "input": [
      "U=Ui-Uf\n",
      "v=sqrt(2*U*1.3*10**(-5)/mass)\n",
      "print v"
     ],
     "language": "python",
     "metadata": {},
     "outputs": [
      {
       "output_type": "stream",
       "stream": "stdout",
       "text": [
        "202.346697153\n"
       ]
      }
     ],
     "prompt_number": 10
    }
   ],
   "metadata": {}
  }
 ]
}