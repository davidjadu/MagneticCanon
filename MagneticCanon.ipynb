{
 "metadata": {
  "name": "",
  "signature": "sha256:c210f9a086addb7d5efbc39ed663a37991575e38af845f8ebd520eda17103aa1"
 },
 "nbformat": 3,
 "nbformat_minor": 0,
 "worksheets": [
  {
   "cells": [
    {
     "cell_type": "code",
     "collapsed": false,
     "input": [
      "%pylab inline"
     ],
     "language": "python",
     "metadata": {},
     "outputs": [
      {
       "output_type": "stream",
       "stream": "stdout",
       "text": [
        "Populating the interactive namespace from numpy and matplotlib\n"
       ]
      }
     ],
     "prompt_number": 2
    },
    {
     "cell_type": "code",
     "collapsed": false,
     "input": [
      "p=444989.0\n",
      "n=5\n",
      "l=0\n",
      "d=5.5\n",
      "a=1.23\n",
      "b=1.0\n",
      "m=n+l+1\n",
      "mass=9"
     ],
     "language": "python",
     "metadata": {},
     "outputs": [],
     "prompt_number": 316
    },
    {
     "cell_type": "code",
     "collapsed": false,
     "input": [
      "def give_a_over_r(a,b,d):\n",
      "    r=-(0.5)**(1.0/3.0)*ones((m+1,m+1))\n",
      "    for i in range(1,n+1):\n",
      "        for j in range(i+1,n+1):\n",
      "            r[i,j]=1.0/(2.0*abs(i-j))\n",
      "            r[j,i]=r[i,j]\n",
      "        for j in range(n+1,m):\n",
      "            r[i,j]=a/(2.0*b+(2.0*i-1.0)*a+(2.0*j-1.0)*a)\n",
      "            r[j,i]=r[i,j]\n",
      "        r[0,i]=a/(d+2.0*b+(2.0*i-1.0)*a)\n",
      "        r[i,0]=r[0,i]\n",
      "        r[i,m]=a/(b+(2*i-1)*a)\n",
      "        r[m,i]=r[i,m]\n",
      "       \n",
      "    for i in range(n+1,m):\n",
      "        for j in range(i+1,m):\n",
      "            r[i,j]=1.0/(2.0*abs(i-j))\n",
      "            r[j,i]=r[i,j]\n",
      "        r[0,i]=a/(d-(2*i-1)*a)\n",
      "        r[i,0]=r[0,i]\n",
      "        r[i,m]=a/(b+(2*i-1)*a)\n",
      "        r[m,i]=r[i,m]\n",
      "    \n",
      "    r[0,m]=a/(b+d)\n",
      "    r[m,0]=r[0,m]\n",
      "    \n",
      "    return r"
     ],
     "language": "python",
     "metadata": {},
     "outputs": [],
     "prompt_number": 317
    },
    {
     "cell_type": "code",
     "collapsed": false,
     "input": [
      "r=give_a_over_r(a,b,d)\n",
      "A=-2.0*(r[:-1,:-1])**3\n",
      "t=zeros(m)\n",
      "t=2.0*p*(r[:-1,m])**3"
     ],
     "language": "python",
     "metadata": {},
     "outputs": [],
     "prompt_number": 318
    },
    {
     "cell_type": "code",
     "collapsed": false,
     "input": [
      "x=numpy.linalg.solve(A,t)"
     ],
     "language": "python",
     "metadata": {},
     "outputs": [],
     "prompt_number": 319
    },
    {
     "cell_type": "code",
     "collapsed": false,
     "input": [
      "Ui=0.0\n",
      "for i in range (m):\n",
      "    for j in range (i+1,m):\n",
      "        Ui+=-2.0*x[i]*x[j]*(r[i,j]/a)**3\n",
      "    Ui+=-2.0*p*x[i]*(r[i,m]/a)**3\n",
      "print Ui"
     ],
     "language": "python",
     "metadata": {},
     "outputs": [
      {
       "output_type": "stream",
       "stream": "stdout",
       "text": [
        "-16023786015.8\n"
       ]
      }
     ],
     "prompt_number": 320
    },
    {
     "cell_type": "code",
     "collapsed": false,
     "input": [
      "r=give_a_over_r(a,b,a)\n",
      "A=-2.0*(r[:-1,:-1])**3\n",
      "t=zeros(m)\n",
      "t=2.0*p*(r[:-1,m])**3"
     ],
     "language": "python",
     "metadata": {},
     "outputs": [],
     "prompt_number": 321
    },
    {
     "cell_type": "code",
     "collapsed": false,
     "input": [
      "x=numpy.linalg.solve(A,t)"
     ],
     "language": "python",
     "metadata": {},
     "outputs": [],
     "prompt_number": 322
    },
    {
     "cell_type": "code",
     "collapsed": false,
     "input": [
      "Uf=0.0\n",
      "for i in range (m):\n",
      "    for j in range (i+1,m):\n",
      "        Uf+=-2.0*x[i]*x[j]*(r[i,j]/a)**3\n",
      "    Uf+=-2.0*p*x[i]*(r[i,m]/a)**3\n",
      "print Uf"
     ],
     "language": "python",
     "metadata": {},
     "outputs": [
      {
       "output_type": "stream",
       "stream": "stdout",
       "text": [
        "-30257830517.5\n"
       ]
      }
     ],
     "prompt_number": 323
    },
    {
     "cell_type": "code",
     "collapsed": false,
     "input": [
      "U=Ui-Uf\n",
      "v=sqrt(2*U*1.3*10**(-5)/mass)\n",
      "print v"
     ],
     "language": "python",
     "metadata": {},
     "outputs": [
      {
       "output_type": "stream",
       "stream": "stdout",
       "text": [
        "202.782082554\n"
       ]
      }
     ],
     "prompt_number": 324
    },
    {
     "cell_type": "code",
     "collapsed": false,
     "input": [],
     "language": "python",
     "metadata": {},
     "outputs": [],
     "prompt_number": 297
    },
    {
     "cell_type": "code",
     "collapsed": false,
     "input": [],
     "language": "python",
     "metadata": {},
     "outputs": []
    }
   ],
   "metadata": {}
  }
 ]
}